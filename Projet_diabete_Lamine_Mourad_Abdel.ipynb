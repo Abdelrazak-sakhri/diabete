{
 "cells": [
  {
   "cell_type": "markdown",
   "metadata": {},
   "source": [
    "# Pima Indians Diabetes Database\n",
    "https://www.kaggle.com/uciml/pima-indians-diabetes-database"
   ]
  },
  {
   "cell_type": "raw",
   "metadata": {},
   "source": [
    "Cet ensemble de données est à l'origine de l'Institut national du diabète et des maladies digestives et rénales. \n",
    "Il est fourni avec l'aimable autorisation de la base de données sur le diabète des Indiens Pima et est disponible sur Kaggle: \n",
    "Il se compose de plusieurs variables prédictives médicales et d'une variable cible, le résultat. \n",
    "Les variables prédictives comprennent le nombre de grossesses que la patiente a eues, son IMC, son taux d'insuline, son âge, etc. \n",
    "\n",
    "L'ensemble de données comporte 9 colonnes, comme indiqué ci-dessous;\n",
    "\n",
    "  Pregnancies              - Nombre de fois enceinte\n",
    "  Glucose                  - Concentration de glucose plasmatique à 2 heures dans un test oral de tolérance au glucose\n",
    "  BloodPressure            - Tension artérielle diastolique (mm Hg)\n",
    "  SkinThickness            - Épaisseur du pli cutané du triceps (mm)\n",
    "  Insulin                  - Insuline sérique 2 heures (mu U / ml)\n",
    "  BMI                      - Indice de masse corporelle (poids en kg / (taille en m) ^ 2)\n",
    "  DiabetesPedigreeFunction - Fonction généalogique du diabète\n",
    "  Age                            - Années d'âge)\n",
    "  Outcome                  - Variable de classe (0 ou 1) 268 sur 768 sont 1, les autres sont 0\n",
    "\n",
    "\n",
    "\n",
    "Énoncé du problème\n",
    "\n",
    "Il s'agit d'un problème de classification de l'apprentissage automatique supervisé. \n",
    "L'objectif est de prédire si un patient est diabétique ou non, sur la base de certaines mesures diagnostiques incluses dans l'ensemble de données.\n",
    "\n",
    "0 - Absence de diabète\n",
    "\n",
    "1 - Présence de diabète\n",
    "\n",
    "\n",
    "\n",
    "Dans ce projet, nous utilisonsons python3 et le notebook Jupyter.  \n",
    "Nous allons parcourir le projet en important l'ensemble de données, en effectuant une analyse exploratoire des données pour obtenir des informations et comprendre à quoi ressemble l'ensemble de données, puis construire le modèle. \n",
    "Nous utilisonsons en outre .\n",
    "\n",
    "Les 7 étapes de l'apprentissage automatique , fournit le cadre général suivant des étapes de l'apprentissage automatique supervisé;\n",
    "\n",
    "    Collecte de données\n",
    "    Préparation des données\n",
    "    Choisir un modèle\n",
    "    Entraîner le modèle\n",
    "    Évaluer le modèle\n",
    "    Réglage des paramètres\n",
    "    Faire des prédictions\n",
    "\n",
    "Commençons donc par importer les bibliothèques requises. \n",
    "Nous importons des bibliothèques d'analyse de données ( pandas, numpy) et des bibliothèques de visualisation ( matplotlib, seaborn). \n",
    "En plus de cela, nous importons également warningsafin que les avertissements soient masqués du notebook au cas où il y en aurait. \n",
    "Pour résoudre le problème, nous devrons analyser les données, effectuer toute transformation et normalisation requises, appliquer un algorithme d'apprentissage automatique, entraîner un modèle, vérifier les performances du modèle entraîné et itérer avec d'autres algorithmes jusqu'à ce que nous trouvions le plus performant pour notre type. de l'ensemble de données."
   ]
  },
  {
   "cell_type": "code",
   "execution_count": null,
   "metadata": {},
   "outputs": [],
   "source": []
  },
  {
   "cell_type": "code",
   "execution_count": null,
   "metadata": {},
   "outputs": [],
   "source": []
  },
  {
   "cell_type": "code",
   "execution_count": null,
   "metadata": {},
   "outputs": [],
   "source": []
  },
  {
   "cell_type": "code",
   "execution_count": null,
   "metadata": {},
   "outputs": [],
   "source": []
  }
 ],
 "metadata": {
  "kernelspec": {
   "display_name": "Python 3",
   "language": "python",
   "name": "python3"
  },
  "language_info": {
   "codemirror_mode": {
    "name": "ipython",
    "version": 3
   },
   "file_extension": ".py",
   "mimetype": "text/x-python",
   "name": "python",
   "nbconvert_exporter": "python",
   "pygments_lexer": "ipython3",
   "version": "3.7.6"
  }
 },
 "nbformat": 4,
 "nbformat_minor": 4
}
